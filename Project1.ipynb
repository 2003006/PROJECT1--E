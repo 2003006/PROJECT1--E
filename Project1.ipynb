{
  "nbformat": 4,
  "nbformat_minor": 0,
  "metadata": {
    "colab": {
      "name": "Project1.ipynb",
      "provenance": [],
      "collapsed_sections": [],
      "authorship_tag": "ABX9TyNbEnP9xN3gTC67i1wG8gZH",
      "include_colab_link": true
    },
    "kernelspec": {
      "name": "python3",
      "display_name": "Python 3"
    },
    "language_info": {
      "name": "python"
    },
    "accelerator": "GPU"
  },
  "cells": [
    {
      "cell_type": "markdown",
      "metadata": {
        "id": "view-in-github",
        "colab_type": "text"
      },
      "source": [
        "<a href=\"https://colab.research.google.com/github/2003006/PROJECT1--E/blob/main/Project1.ipynb\" target=\"_parent\"><img src=\"https://colab.research.google.com/assets/colab-badge.svg\" alt=\"Open In Colab\"/></a>"
      ]
    },
    {
      "cell_type": "markdown",
      "metadata": {
        "id": "CjsV0Cj3Gt3i"
      },
      "source": [
        "#1) Importing libraries required for the project.\n",
        "\n",
        "\n",
        "\n",
        "\n",
        "\n",
        "\n"
      ]
    },
    {
      "cell_type": "code",
      "metadata": {
        "id": "rIwEvDJxQm3R"
      },
      "source": [
        "import pandas as pd\n",
        "pd.options.mode.chained_assignment= None\n",
        "import numpy as np\n",
        "import matplotlib.pyplot as plt\n",
        "import seaborn as sns\n",
        "import folium as fm"
      ],
      "execution_count": 1,
      "outputs": []
    },
    {
      "cell_type": "markdown",
      "metadata": {
        "id": "UfpwMBECG1-I"
      },
      "source": [
        "#2) Loading and previewing the dataset"
      ]
    },
    {
      "cell_type": "code",
      "metadata": {
        "colab": {
          "base_uri": "https://localhost:8080/",
          "height": 374
        },
        "id": "sXXgZ77DQNoC",
        "outputId": "03998c17-45ad-4661-a100-f21d4ed511f7"
      },
      "source": [
        "df = pd.read_csv('/content/911.csv')\n",
        "df.head()"
      ],
      "execution_count": 2,
      "outputs": [
        {
          "output_type": "execute_result",
          "data": {
            "text/html": [
              "<div>\n",
              "<style scoped>\n",
              "    .dataframe tbody tr th:only-of-type {\n",
              "        vertical-align: middle;\n",
              "    }\n",
              "\n",
              "    .dataframe tbody tr th {\n",
              "        vertical-align: top;\n",
              "    }\n",
              "\n",
              "    .dataframe thead th {\n",
              "        text-align: right;\n",
              "    }\n",
              "</style>\n",
              "<table border=\"1\" class=\"dataframe\">\n",
              "  <thead>\n",
              "    <tr style=\"text-align: right;\">\n",
              "      <th></th>\n",
              "      <th>lat</th>\n",
              "      <th>lng</th>\n",
              "      <th>desc</th>\n",
              "      <th>zip</th>\n",
              "      <th>title</th>\n",
              "      <th>timeStamp</th>\n",
              "      <th>twp</th>\n",
              "      <th>addr</th>\n",
              "      <th>e</th>\n",
              "    </tr>\n",
              "  </thead>\n",
              "  <tbody>\n",
              "    <tr>\n",
              "      <th>0</th>\n",
              "      <td>40.297876</td>\n",
              "      <td>-75.581294</td>\n",
              "      <td>REINDEER CT &amp; DEAD END;  NEW HANOVER; Station ...</td>\n",
              "      <td>19525.0</td>\n",
              "      <td>EMS: BACK PAINS/INJURY</td>\n",
              "      <td>2015-12-10 17:10:52</td>\n",
              "      <td>NEW HANOVER</td>\n",
              "      <td>REINDEER CT &amp; DEAD END</td>\n",
              "      <td>1</td>\n",
              "    </tr>\n",
              "    <tr>\n",
              "      <th>1</th>\n",
              "      <td>40.258061</td>\n",
              "      <td>-75.264680</td>\n",
              "      <td>BRIAR PATH &amp; WHITEMARSH LN;  HATFIELD TOWNSHIP...</td>\n",
              "      <td>19446.0</td>\n",
              "      <td>EMS: DIABETIC EMERGENCY</td>\n",
              "      <td>2015-12-10 17:29:21</td>\n",
              "      <td>HATFIELD TOWNSHIP</td>\n",
              "      <td>BRIAR PATH &amp; WHITEMARSH LN</td>\n",
              "      <td>1</td>\n",
              "    </tr>\n",
              "    <tr>\n",
              "      <th>2</th>\n",
              "      <td>40.121182</td>\n",
              "      <td>-75.351975</td>\n",
              "      <td>HAWS AVE; NORRISTOWN; 2015-12-10 @ 14:39:21-St...</td>\n",
              "      <td>19401.0</td>\n",
              "      <td>Fire: GAS-ODOR/LEAK</td>\n",
              "      <td>2015-12-10 14:39:21</td>\n",
              "      <td>NORRISTOWN</td>\n",
              "      <td>HAWS AVE</td>\n",
              "      <td>1</td>\n",
              "    </tr>\n",
              "    <tr>\n",
              "      <th>3</th>\n",
              "      <td>40.116153</td>\n",
              "      <td>-75.343513</td>\n",
              "      <td>AIRY ST &amp; SWEDE ST;  NORRISTOWN; Station 308A;...</td>\n",
              "      <td>19401.0</td>\n",
              "      <td>EMS: CARDIAC EMERGENCY</td>\n",
              "      <td>2015-12-10 16:47:36</td>\n",
              "      <td>NORRISTOWN</td>\n",
              "      <td>AIRY ST &amp; SWEDE ST</td>\n",
              "      <td>1</td>\n",
              "    </tr>\n",
              "    <tr>\n",
              "      <th>4</th>\n",
              "      <td>40.251492</td>\n",
              "      <td>-75.603350</td>\n",
              "      <td>CHERRYWOOD CT &amp; DEAD END;  LOWER POTTSGROVE; S...</td>\n",
              "      <td>NaN</td>\n",
              "      <td>EMS: DIZZINESS</td>\n",
              "      <td>2015-12-10 16:56:52</td>\n",
              "      <td>LOWER POTTSGROVE</td>\n",
              "      <td>CHERRYWOOD CT &amp; DEAD END</td>\n",
              "      <td>1</td>\n",
              "    </tr>\n",
              "  </tbody>\n",
              "</table>\n",
              "</div>"
            ],
            "text/plain": [
              "         lat        lng  ...                        addr  e\n",
              "0  40.297876 -75.581294  ...      REINDEER CT & DEAD END  1\n",
              "1  40.258061 -75.264680  ...  BRIAR PATH & WHITEMARSH LN  1\n",
              "2  40.121182 -75.351975  ...                    HAWS AVE  1\n",
              "3  40.116153 -75.343513  ...          AIRY ST & SWEDE ST  1\n",
              "4  40.251492 -75.603350  ...    CHERRYWOOD CT & DEAD END  1\n",
              "\n",
              "[5 rows x 9 columns]"
            ]
          },
          "metadata": {
            "tags": []
          },
          "execution_count": 2
        }
      ]
    },
    {
      "cell_type": "markdown",
      "metadata": {
        "id": "i4e1KXwuIPqm"
      },
      "source": [
        "#3) Checking information about our dataset"
      ]
    },
    {
      "cell_type": "code",
      "metadata": {
        "colab": {
          "base_uri": "https://localhost:8080/"
        },
        "id": "yXJi9O7BIZV6",
        "outputId": "0ad9c16c-3bc0-4731-e27b-69bf56aa9295"
      },
      "source": [
        "df.info()"
      ],
      "execution_count": 3,
      "outputs": [
        {
          "output_type": "stream",
          "text": [
            "<class 'pandas.core.frame.DataFrame'>\n",
            "RangeIndex: 266543 entries, 0 to 266542\n",
            "Data columns (total 9 columns):\n",
            " #   Column     Non-Null Count   Dtype  \n",
            "---  ------     --------------   -----  \n",
            " 0   lat        266543 non-null  float64\n",
            " 1   lng        266543 non-null  float64\n",
            " 2   desc       266543 non-null  object \n",
            " 3   zip        234049 non-null  float64\n",
            " 4   title      266543 non-null  object \n",
            " 5   timeStamp  266543 non-null  object \n",
            " 6   twp        266448 non-null  object \n",
            " 7   addr       266543 non-null  object \n",
            " 8   e          266543 non-null  int64  \n",
            "dtypes: float64(3), int64(1), object(5)\n",
            "memory usage: 18.3+ MB\n"
          ],
          "name": "stdout"
        }
      ]
    },
    {
      "cell_type": "markdown",
      "metadata": {
        "id": "_o2iXfvHI61o"
      },
      "source": [
        "#3) Data Wrangling"
      ]
    },
    {
      "cell_type": "code",
      "metadata": {
        "colab": {
          "base_uri": "https://localhost:8080/"
        },
        "id": "N-Y0yLgDQlNi",
        "outputId": "7d17deb2-868e-45aa-98c5-275c14272f2c"
      },
      "source": [
        "#checking for null values\n",
        "df.isnull().sum()"
      ],
      "execution_count": 4,
      "outputs": [
        {
          "output_type": "execute_result",
          "data": {
            "text/plain": [
              "lat              0\n",
              "lng              0\n",
              "desc             0\n",
              "zip          32494\n",
              "title            0\n",
              "timeStamp        0\n",
              "twp             95\n",
              "addr             0\n",
              "e                0\n",
              "dtype: int64"
            ]
          },
          "metadata": {
            "tags": []
          },
          "execution_count": 4
        }
      ]
    },
    {
      "cell_type": "code",
      "metadata": {
        "colab": {
          "base_uri": "https://localhost:8080/"
        },
        "id": "ltjmEKBnZyNj",
        "outputId": "26d2a383-d6a7-40a9-9134-8a27e84d8835"
      },
      "source": [
        "#removing null in the zip column\n",
        "df_wrang_zip = df[pd.notnull(df['zip'])]\n",
        "df_wrang_zip.isnull().sum()"
      ],
      "execution_count": 5,
      "outputs": [
        {
          "output_type": "execute_result",
          "data": {
            "text/plain": [
              "lat           0\n",
              "lng           0\n",
              "desc          0\n",
              "zip           0\n",
              "title         0\n",
              "timeStamp     0\n",
              "twp          42\n",
              "addr          0\n",
              "e             0\n",
              "dtype: int64"
            ]
          },
          "metadata": {
            "tags": []
          },
          "execution_count": 5
        }
      ]
    },
    {
      "cell_type": "code",
      "metadata": {
        "colab": {
          "base_uri": "https://localhost:8080/"
        },
        "id": "Yfz87g2JaImw",
        "outputId": "157c3ad6-2e6f-4100-cd49-61f86605c449"
      },
      "source": [
        "df_wrang = df_wrang_zip[pd.notnull(df_wrang_zip['twp'])]\n",
        "df_wrang.isnull().sum() "
      ],
      "execution_count": 6,
      "outputs": [
        {
          "output_type": "execute_result",
          "data": {
            "text/plain": [
              "lat          0\n",
              "lng          0\n",
              "desc         0\n",
              "zip          0\n",
              "title        0\n",
              "timeStamp    0\n",
              "twp          0\n",
              "addr         0\n",
              "e            0\n",
              "dtype: int64"
            ]
          },
          "metadata": {
            "tags": []
          },
          "execution_count": 6
        }
      ]
    },
    {
      "cell_type": "code",
      "metadata": {
        "colab": {
          "base_uri": "https://localhost:8080/"
        },
        "id": "8e90Tx78J36b",
        "outputId": "dbeb90a8-d2a8-44c9-dbf6-628bb163ddf8"
      },
      "source": [
        "#checking for duplicates\n",
        "df_wrang.duplicated().sum()"
      ],
      "execution_count": 7,
      "outputs": [
        {
          "output_type": "execute_result",
          "data": {
            "text/plain": [
              "53"
            ]
          },
          "metadata": {
            "tags": []
          },
          "execution_count": 7
        }
      ]
    },
    {
      "cell_type": "code",
      "metadata": {
        "id": "DwDEWOxYKCWE"
      },
      "source": [
        "#removing duplicates\n",
        "df_wrang.drop_duplicates(inplace=True)"
      ],
      "execution_count": 8,
      "outputs": []
    },
    {
      "cell_type": "code",
      "metadata": {
        "colab": {
          "base_uri": "https://localhost:8080/"
        },
        "id": "FcMt2R88KXFV",
        "outputId": "90dae0f7-5aae-4072-87f1-be041f58dc28"
      },
      "source": [
        "#checking if duplicated were droped\n",
        "df_wrang.duplicated().sum()"
      ],
      "execution_count": 9,
      "outputs": [
        {
          "output_type": "execute_result",
          "data": {
            "text/plain": [
              "0"
            ]
          },
          "metadata": {
            "tags": []
          },
          "execution_count": 9
        }
      ]
    },
    {
      "cell_type": "code",
      "metadata": {
        "id": "6ldFy-niKwW-",
        "colab": {
          "base_uri": "https://localhost:8080/"
        },
        "outputId": "482a88d4-e972-43db-eddf-d73cf8e3389c"
      },
      "source": [
        "#chanhing timestamp from object to datetime\n",
        "df_wrang['timeStamp'] = pd.to_datetime(df_wrang['timeStamp'])\n",
        "#splitting the timestamp column to get the month,day, week ,day_name and day of week\n",
        "df_wrang['month']= df_wrang['timeStamp'].dt.month\n",
        "df_wrang['day_of_month']= df_wrang['timeStamp'].dt.day\n",
        "df_wrang['day_of_week']= df_wrang['timeStamp'].dt.dayofweek\n",
        "df_wrang['day_name']= df_wrang['timeStamp'].dt.day_name()\n",
        "df_wrang.head()\n",
        "df_wrang.info()"
      ],
      "execution_count": 10,
      "outputs": [
        {
          "output_type": "stream",
          "text": [
            "<class 'pandas.core.frame.DataFrame'>\n",
            "Int64Index: 233954 entries, 0 to 266542\n",
            "Data columns (total 13 columns):\n",
            " #   Column        Non-Null Count   Dtype         \n",
            "---  ------        --------------   -----         \n",
            " 0   lat           233954 non-null  float64       \n",
            " 1   lng           233954 non-null  float64       \n",
            " 2   desc          233954 non-null  object        \n",
            " 3   zip           233954 non-null  float64       \n",
            " 4   title         233954 non-null  object        \n",
            " 5   timeStamp     233954 non-null  datetime64[ns]\n",
            " 6   twp           233954 non-null  object        \n",
            " 7   addr          233954 non-null  object        \n",
            " 8   e             233954 non-null  int64         \n",
            " 9   month         233954 non-null  int64         \n",
            " 10  day_of_month  233954 non-null  int64         \n",
            " 11  day_of_week   233954 non-null  int64         \n",
            " 12  day_name      233954 non-null  object        \n",
            "dtypes: datetime64[ns](1), float64(3), int64(4), object(5)\n",
            "memory usage: 25.0+ MB\n"
          ],
          "name": "stdout"
        }
      ]
    },
    {
      "cell_type": "markdown",
      "metadata": {
        "id": "sBsoXDJ8MLhk"
      },
      "source": [
        "#Questions"
      ]
    },
    {
      "cell_type": "markdown",
      "metadata": {
        "id": "6ArUcrB-MGZ8"
      },
      "source": [
        "##1)What are the top 10 Zipcodes for 911  & Question 1: Are Zipcodes 19446 and 19090 present ?"
      ]
    },
    {
      "cell_type": "code",
      "metadata": {
        "colab": {
          "base_uri": "https://localhost:8080/"
        },
        "id": "nB26gb9TRrEo",
        "outputId": "ba95125c-c51c-4d6c-d1b0-aa211e0936ea"
      },
      "source": [
        "#Value cpunts for postal counts\n",
        "df_wrang.zip.value_counts().sort_values(ascending= False).head(10)"
      ],
      "execution_count": 11,
      "outputs": [
        {
          "output_type": "execute_result",
          "data": {
            "text/plain": [
              "19401.0    18385\n",
              "19464.0    17935\n",
              "19403.0    13361\n",
              "19446.0    12826\n",
              "19406.0     8815\n",
              "19002.0     8363\n",
              "19468.0     7858\n",
              "19046.0     7336\n",
              "19454.0     7273\n",
              "19090.0     6997\n",
              "Name: zip, dtype: int64"
            ]
          },
          "metadata": {
            "tags": []
          },
          "execution_count": 11
        }
      ]
    },
    {
      "cell_type": "code",
      "metadata": {
        "colab": {
          "base_uri": "https://localhost:8080/",
          "height": 111
        },
        "id": "uKKW2eyWbtJW",
        "outputId": "f8e4a83b-1130-4bd5-efc0-efd5658062df"
      },
      "source": [
        "counts=df_wrang.zip.value_counts().sort_values(ascending= False).reset_index(name='counts').head(10)\n",
        "counts.loc[(counts['index'] == 19446 ) | (counts['index'] == 19090 ) ]\n",
        "#Zipcodes 19446 and 19090 present among the top 10"
      ],
      "execution_count": 12,
      "outputs": [
        {
          "output_type": "execute_result",
          "data": {
            "text/html": [
              "<div>\n",
              "<style scoped>\n",
              "    .dataframe tbody tr th:only-of-type {\n",
              "        vertical-align: middle;\n",
              "    }\n",
              "\n",
              "    .dataframe tbody tr th {\n",
              "        vertical-align: top;\n",
              "    }\n",
              "\n",
              "    .dataframe thead th {\n",
              "        text-align: right;\n",
              "    }\n",
              "</style>\n",
              "<table border=\"1\" class=\"dataframe\">\n",
              "  <thead>\n",
              "    <tr style=\"text-align: right;\">\n",
              "      <th></th>\n",
              "      <th>index</th>\n",
              "      <th>counts</th>\n",
              "    </tr>\n",
              "  </thead>\n",
              "  <tbody>\n",
              "    <tr>\n",
              "      <th>3</th>\n",
              "      <td>19446.0</td>\n",
              "      <td>12826</td>\n",
              "    </tr>\n",
              "    <tr>\n",
              "      <th>9</th>\n",
              "      <td>19090.0</td>\n",
              "      <td>6997</td>\n",
              "    </tr>\n",
              "  </tbody>\n",
              "</table>\n",
              "</div>"
            ],
            "text/plain": [
              "     index  counts\n",
              "3  19446.0   12826\n",
              "9  19090.0    6997"
            ]
          },
          "metadata": {
            "tags": []
          },
          "execution_count": 12
        }
      ]
    },
    {
      "cell_type": "markdown",
      "metadata": {
        "id": "-7n_duRmdarQ"
      },
      "source": [
        "##2) Compute --What are the top 4 townships (twp) for 911 calls  & Question 2: Which  of the following township are  not present? --LOWER POTTSGROVE, NORRISTOWN, HORSHAM, ABINGTON"
      ]
    },
    {
      "cell_type": "code",
      "metadata": {
        "colab": {
          "base_uri": "https://localhost:8080/"
        },
        "id": "whgkvZvcgPPg",
        "outputId": "3ec31a67-5f00-4e3a-b52e-853cdba6efe8"
      },
      "source": [
        "df_wrang.twp.value_counts().sort_values(ascending= False).head(4)"
      ],
      "execution_count": 13,
      "outputs": [
        {
          "output_type": "execute_result",
          "data": {
            "text/plain": [
              "LOWER MERION    19438\n",
              "ABINGTON        15631\n",
              "NORRISTOWN      14676\n",
              "POTTSTOWN       10971\n",
              "Name: twp, dtype: int64"
            ]
          },
          "metadata": {
            "tags": []
          },
          "execution_count": 13
        }
      ]
    },
    {
      "cell_type": "code",
      "metadata": {
        "colab": {
          "base_uri": "https://localhost:8080/",
          "height": 111
        },
        "id": "fd0FTsm4U2Y7",
        "outputId": "3911ed9e-2c89-481b-8fb6-b35268f00390"
      },
      "source": [
        "#Locating the townships\n",
        "count=df_wrang.twp.value_counts().sort_values(ascending= False).reset_index(name='counts').head(4)\n",
        "count.loc[(count['index']=='LOWER POTTSGROVE') |\n",
        "          (count['index']=='NORRISTOWN')|\n",
        "          (count['index']=='HORSHAM')|\n",
        "          (count['index']=='ABINGTON')]\n",
        "#LOWER POTTSGROVE and HORSHAM townships ***are not*** among the top 4"
      ],
      "execution_count": 14,
      "outputs": [
        {
          "output_type": "execute_result",
          "data": {
            "text/html": [
              "<div>\n",
              "<style scoped>\n",
              "    .dataframe tbody tr th:only-of-type {\n",
              "        vertical-align: middle;\n",
              "    }\n",
              "\n",
              "    .dataframe tbody tr th {\n",
              "        vertical-align: top;\n",
              "    }\n",
              "\n",
              "    .dataframe thead th {\n",
              "        text-align: right;\n",
              "    }\n",
              "</style>\n",
              "<table border=\"1\" class=\"dataframe\">\n",
              "  <thead>\n",
              "    <tr style=\"text-align: right;\">\n",
              "      <th></th>\n",
              "      <th>index</th>\n",
              "      <th>counts</th>\n",
              "    </tr>\n",
              "  </thead>\n",
              "  <tbody>\n",
              "    <tr>\n",
              "      <th>1</th>\n",
              "      <td>ABINGTON</td>\n",
              "      <td>15631</td>\n",
              "    </tr>\n",
              "    <tr>\n",
              "      <th>2</th>\n",
              "      <td>NORRISTOWN</td>\n",
              "      <td>14676</td>\n",
              "    </tr>\n",
              "  </tbody>\n",
              "</table>\n",
              "</div>"
            ],
            "text/plain": [
              "        index  counts\n",
              "1    ABINGTON   15631\n",
              "2  NORRISTOWN   14676"
            ]
          },
          "metadata": {
            "tags": []
          },
          "execution_count": 14
        }
      ]
    },
    {
      "cell_type": "markdown",
      "metadata": {
        "id": "egMGuwm8gke0"
      },
      "source": [
        "##3) Compute --Create new features  & Question 3: What is the most common Reason for a 911 call based on Reason Column? Which comes second"
      ]
    },
    {
      "cell_type": "code",
      "metadata": {
        "id": "56jnkeuhg8oO",
        "colab": {
          "base_uri": "https://localhost:8080/",
          "height": 496
        },
        "outputId": "d57a9dbb-a07d-4c56-e7b1-930b8cf01eed"
      },
      "source": [
        "#splitting the column title to get reason column\n",
        "df_wrang['reason'] = df_wrang['title'].apply(lambda title: title.split(':')[0])\n",
        "df_wrang.head(5)"
      ],
      "execution_count": 15,
      "outputs": [
        {
          "output_type": "execute_result",
          "data": {
            "text/html": [
              "<div>\n",
              "<style scoped>\n",
              "    .dataframe tbody tr th:only-of-type {\n",
              "        vertical-align: middle;\n",
              "    }\n",
              "\n",
              "    .dataframe tbody tr th {\n",
              "        vertical-align: top;\n",
              "    }\n",
              "\n",
              "    .dataframe thead th {\n",
              "        text-align: right;\n",
              "    }\n",
              "</style>\n",
              "<table border=\"1\" class=\"dataframe\">\n",
              "  <thead>\n",
              "    <tr style=\"text-align: right;\">\n",
              "      <th></th>\n",
              "      <th>lat</th>\n",
              "      <th>lng</th>\n",
              "      <th>desc</th>\n",
              "      <th>zip</th>\n",
              "      <th>title</th>\n",
              "      <th>timeStamp</th>\n",
              "      <th>twp</th>\n",
              "      <th>addr</th>\n",
              "      <th>e</th>\n",
              "      <th>month</th>\n",
              "      <th>day_of_month</th>\n",
              "      <th>day_of_week</th>\n",
              "      <th>day_name</th>\n",
              "      <th>reason</th>\n",
              "    </tr>\n",
              "  </thead>\n",
              "  <tbody>\n",
              "    <tr>\n",
              "      <th>0</th>\n",
              "      <td>40.297876</td>\n",
              "      <td>-75.581294</td>\n",
              "      <td>REINDEER CT &amp; DEAD END;  NEW HANOVER; Station ...</td>\n",
              "      <td>19525.0</td>\n",
              "      <td>EMS: BACK PAINS/INJURY</td>\n",
              "      <td>2015-12-10 17:10:52</td>\n",
              "      <td>NEW HANOVER</td>\n",
              "      <td>REINDEER CT &amp; DEAD END</td>\n",
              "      <td>1</td>\n",
              "      <td>12</td>\n",
              "      <td>10</td>\n",
              "      <td>3</td>\n",
              "      <td>Thursday</td>\n",
              "      <td>EMS</td>\n",
              "    </tr>\n",
              "    <tr>\n",
              "      <th>1</th>\n",
              "      <td>40.258061</td>\n",
              "      <td>-75.264680</td>\n",
              "      <td>BRIAR PATH &amp; WHITEMARSH LN;  HATFIELD TOWNSHIP...</td>\n",
              "      <td>19446.0</td>\n",
              "      <td>EMS: DIABETIC EMERGENCY</td>\n",
              "      <td>2015-12-10 17:29:21</td>\n",
              "      <td>HATFIELD TOWNSHIP</td>\n",
              "      <td>BRIAR PATH &amp; WHITEMARSH LN</td>\n",
              "      <td>1</td>\n",
              "      <td>12</td>\n",
              "      <td>10</td>\n",
              "      <td>3</td>\n",
              "      <td>Thursday</td>\n",
              "      <td>EMS</td>\n",
              "    </tr>\n",
              "    <tr>\n",
              "      <th>2</th>\n",
              "      <td>40.121182</td>\n",
              "      <td>-75.351975</td>\n",
              "      <td>HAWS AVE; NORRISTOWN; 2015-12-10 @ 14:39:21-St...</td>\n",
              "      <td>19401.0</td>\n",
              "      <td>Fire: GAS-ODOR/LEAK</td>\n",
              "      <td>2015-12-10 14:39:21</td>\n",
              "      <td>NORRISTOWN</td>\n",
              "      <td>HAWS AVE</td>\n",
              "      <td>1</td>\n",
              "      <td>12</td>\n",
              "      <td>10</td>\n",
              "      <td>3</td>\n",
              "      <td>Thursday</td>\n",
              "      <td>Fire</td>\n",
              "    </tr>\n",
              "    <tr>\n",
              "      <th>3</th>\n",
              "      <td>40.116153</td>\n",
              "      <td>-75.343513</td>\n",
              "      <td>AIRY ST &amp; SWEDE ST;  NORRISTOWN; Station 308A;...</td>\n",
              "      <td>19401.0</td>\n",
              "      <td>EMS: CARDIAC EMERGENCY</td>\n",
              "      <td>2015-12-10 16:47:36</td>\n",
              "      <td>NORRISTOWN</td>\n",
              "      <td>AIRY ST &amp; SWEDE ST</td>\n",
              "      <td>1</td>\n",
              "      <td>12</td>\n",
              "      <td>10</td>\n",
              "      <td>3</td>\n",
              "      <td>Thursday</td>\n",
              "      <td>EMS</td>\n",
              "    </tr>\n",
              "    <tr>\n",
              "      <th>5</th>\n",
              "      <td>40.253473</td>\n",
              "      <td>-75.283245</td>\n",
              "      <td>CANNON AVE &amp; W 9TH ST;  LANSDALE; Station 345;...</td>\n",
              "      <td>19446.0</td>\n",
              "      <td>EMS: HEAD INJURY</td>\n",
              "      <td>2015-12-10 15:39:04</td>\n",
              "      <td>LANSDALE</td>\n",
              "      <td>CANNON AVE &amp; W 9TH ST</td>\n",
              "      <td>1</td>\n",
              "      <td>12</td>\n",
              "      <td>10</td>\n",
              "      <td>3</td>\n",
              "      <td>Thursday</td>\n",
              "      <td>EMS</td>\n",
              "    </tr>\n",
              "  </tbody>\n",
              "</table>\n",
              "</div>"
            ],
            "text/plain": [
              "         lat        lng  ...  day_name  reason\n",
              "0  40.297876 -75.581294  ...  Thursday     EMS\n",
              "1  40.258061 -75.264680  ...  Thursday     EMS\n",
              "2  40.121182 -75.351975  ...  Thursday    Fire\n",
              "3  40.116153 -75.343513  ...  Thursday     EMS\n",
              "5  40.253473 -75.283245  ...  Thursday     EMS\n",
              "\n",
              "[5 rows x 14 columns]"
            ]
          },
          "metadata": {
            "tags": []
          },
          "execution_count": 15
        }
      ]
    },
    {
      "cell_type": "code",
      "metadata": {
        "colab": {
          "base_uri": "https://localhost:8080/"
        },
        "id": "1RJ-u_QehPPm",
        "outputId": "81b585bd-2f0d-409b-8234-be8104977d66"
      },
      "source": [
        "count1=df_wrang.reason.value_counts().sort_values(ascending= False).head(2)\n",
        "count1\n",
        "#Most common is EMS\n",
        "#Traffic comes second"
      ],
      "execution_count": 16,
      "outputs": [
        {
          "output_type": "execute_result",
          "data": {
            "text/plain": [
              "EMS        121224\n",
              "Traffic     77752\n",
              "Name: reason, dtype: int64"
            ]
          },
          "metadata": {
            "tags": []
          },
          "execution_count": 16
        }
      ]
    },
    {
      "cell_type": "markdown",
      "metadata": {
        "id": "Myx5ZgpmiotC"
      },
      "source": [
        "##4) Compute --Plot barchart using matplot  for 911 calls by Reason  & Question 4: How can you plot the bars horizontally ?"
      ]
    },
    {
      "cell_type": "code",
      "metadata": {
        "colab": {
          "base_uri": "https://localhost:8080/",
          "height": 352
        },
        "id": "wezd-KlGiT5U",
        "outputId": "ce301cb5-74d4-483c-ece9-80c74d4bc3ab"
      },
      "source": [
        "plot = df_wrang['reason'].value_counts().reset_index(name = 'counts')\n",
        "plot\n",
        "\n",
        "x =plot['index']\n",
        "y = plot['counts']\n",
        "plt.figure(figsize=(10,5))\n",
        "plt.barh(x,y,color = ['pink','purple','green'],alpha = 1)\n",
        "plt.xlabel('Counts per Reason',fontweight='bold')\n",
        "plt.ylabel('Reason',fontweight='bold')\n",
        "plt.title('Horizontal bar chart for 911 calls per Reason',fontsize=15,fontweight='bold')\n",
        "plt.show()"
      ],
      "execution_count": 17,
      "outputs": [
        {
          "output_type": "display_data",
          "data": {
            "image/png": "[encoded data removed]",
            "text/plain": [
              "<Figure size 720x360 with 1 Axes>"
            ]
          },
          "metadata": {
            "tags": [],
            "needs_background": "light"
          }
        }
      ]
    },
    {
      "cell_type": "markdown",
      "metadata": {
        "id": "6x_ISyYNn_Jn"
      },
      "source": [
        "##5) Do data manipulation & Question 5: Which day got maximum calls for EMS and how many?"
      ]
    },
    {
      "cell_type": "code",
      "metadata": {
        "colab": {
          "base_uri": "https://localhost:8080/"
        },
        "id": "7gQWEnSMpUBf",
        "outputId": "87fbe908-dbe1-44bf-b2fe-ef177a8185eb"
      },
      "source": [
        "loc = df_wrang.loc[df_wrang['reason'] == 'EMS']\n",
        "loc.day_name.value_counts().sort_values(ascending= False).head(1)\n",
        "#Friday is the day EMS calls are got more than other days."
      ],
      "execution_count": 18,
      "outputs": [
        {
          "output_type": "execute_result",
          "data": {
            "text/plain": [
              "Friday    18036\n",
              "Name: day_name, dtype: int64"
            ]
          },
          "metadata": {
            "tags": []
          },
          "execution_count": 18
        }
      ]
    },
    {
      "cell_type": "markdown",
      "metadata": {
        "id": "d4GzAh2l1X5a"
      },
      "source": [
        "##6) Compute --Create a countplot of the Day of Week column with the hue based of the Reason column & Question 6: On which day traffic calls were lowest ?"
      ]
    },
    {
      "cell_type": "code",
      "metadata": {
        "colab": {
          "base_uri": "https://localhost:8080/",
          "height": 409
        },
        "id": "ChMJG0M70TD8",
        "outputId": "e47a2de0-a2a1-4fad-e050-5c5016daffa6"
      },
      "source": [
        "plt.figure(figsize=(12,6))\n",
        "sns.countplot(x='day_name',data=df_wrang,hue='reason',palette = 'gist_earth_r')\n",
        "plt.title('Countplot of the Day of week column with the hue based of the reason column',fontsize = 18,fontweight='bold')\n",
        "plt.show()\n",
        "# using the bar chart, sunday was the day of the week which traffic was the least"
      ],
      "execution_count": 19,
      "outputs": [
        {
          "output_type": "display_data",
          "data": {
            "image/png": "[encoded data removed]",
            "text/plain": [
              "<Figure size 864x432 with 1 Axes>"
            ]
          },
          "metadata": {
            "tags": [],
            "needs_background": "light"
          }
        }
      ]
    },
    {
      "cell_type": "code",
      "metadata": {
        "colab": {
          "base_uri": "https://localhost:8080/"
        },
        "id": "ln-6s7T-2UI0",
        "outputId": "4e259148-3666-45bc-f3ee-d05946f85719"
      },
      "source": [
        "#locating the day of week where Traffic calls were lowest using a code\n",
        "traffic=df_wrang.loc[df_wrang['reason'] == 'Traffic']\n",
        "traffic.day_name.value_counts().sort_values(ascending= True).head(1)"
      ],
      "execution_count": 20,
      "outputs": [
        {
          "output_type": "execute_result",
          "data": {
            "text/plain": [
              "Sunday    7150\n",
              "Name: day_name, dtype: int64"
            ]
          },
          "metadata": {
            "tags": []
          },
          "execution_count": 20
        }
      ]
    },
    {
      "cell_type": "markdown",
      "metadata": {
        "id": "b_ameTzn49s_"
      },
      "source": [
        "##7) Create a countplot month wise  --Question 7: Which month saw highest calls for fire?\n"
      ]
    },
    {
      "cell_type": "code",
      "metadata": {
        "id": "WlAUWTSnolRX"
      },
      "source": [
        "month_dict = {1:'Jan',2:'Feb',3:'Mar',4:'Apr',5:'May',6:'Jun',7:'Jul',8:'Aug',9:'Sep',10:'Oct',11:'Nov',12:'Dec'}\n",
        "df_wrang['month_name']=df_wrang['month'].map(month_dict)"
      ],
      "execution_count": 21,
      "outputs": []
    },
    {
      "cell_type": "code",
      "metadata": {
        "colab": {
          "base_uri": "https://localhost:8080/",
          "height": 405
        },
        "id": "XoqLoaie4Stl",
        "outputId": "caf8c263-ba44-41bd-aa47-8aefe7cc3fa8"
      },
      "source": [
        "plt.figure(figsize=(12,6))\n",
        "sns.countplot(x='month_name',data=df_wrang,hue='reason',palette = 'gist_earth_r')\n",
        "plt.title('Countplot of the Day of Month column with the hue based of the reason column')\n",
        "plt.show()\n",
        "#Using the bar chart, June got the highest calls of fire"
      ],
      "execution_count": 22,
      "outputs": [
        {
          "output_type": "display_data",
          "data": {
            "image/png": "[encoded data removed]",
            "text/plain": [
              "<Figure size 864x432 with 1 Axes>"
            ]
          },
          "metadata": {
            "tags": [],
            "needs_background": "light"
          }
        }
      ]
    },
    {
      "cell_type": "code",
      "metadata": {
        "colab": {
          "base_uri": "https://localhost:8080/"
        },
        "id": "I9ONycaw5Pxy",
        "outputId": "d4353e64-7100-46ad-c1e7-1619e43fc6dd"
      },
      "source": [
        "#using a code to locate the month with highest calls \n",
        "#of fires to confirm with the bar chart analysis\n",
        "\n",
        "fire=df_wrang.loc[df_wrang['reason'] == 'Fire']\n",
        "fire.month_name.value_counts().sort_values(ascending=False).head(1)\n",
        "\n",
        "#Correct the month is JUNE"
      ],
      "execution_count": 23,
      "outputs": [
        {
          "output_type": "execute_result",
          "data": {
            "text/plain": [
              "Jun    3312\n",
              "Name: month_name, dtype: int64"
            ]
          },
          "metadata": {
            "tags": []
          },
          "execution_count": 23
        }
      ]
    },
    {
      "cell_type": "markdown",
      "metadata": {
        "id": "cMZj350M_epz"
      },
      "source": [
        "##8) Compute --Create Web Map for Traffic Calls  & Question 8: Why some areas seem tohave lower or almost zero traffic calls? Hint: Zoom the map"
      ]
    },
    {
      "cell_type": "code",
      "metadata": {
        "colab": {
          "base_uri": "https://localhost:8080/",
          "height": 513
        },
        "id": "u_kwhg9KFGxF",
        "outputId": "837c3a40-d346-4ff0-8c46-da2232d812eb"
      },
      "source": [
        "traf=df_wrang.loc[df_wrang['reason']== 'Traffic']\n",
        "traf.head(5)"
      ],
      "execution_count": 24,
      "outputs": [
        {
          "output_type": "execute_result",
          "data": {
            "text/html": [
              "<div>\n",
              "<style scoped>\n",
              "    .dataframe tbody tr th:only-of-type {\n",
              "        vertical-align: middle;\n",
              "    }\n",
              "\n",
              "    .dataframe tbody tr th {\n",
              "        vertical-align: top;\n",
              "    }\n",
              "\n",
              "    .dataframe thead th {\n",
              "        text-align: right;\n",
              "    }\n",
              "</style>\n",
              "<table border=\"1\" class=\"dataframe\">\n",
              "  <thead>\n",
              "    <tr style=\"text-align: right;\">\n",
              "      <th></th>\n",
              "      <th>lat</th>\n",
              "      <th>lng</th>\n",
              "      <th>desc</th>\n",
              "      <th>zip</th>\n",
              "      <th>title</th>\n",
              "      <th>timeStamp</th>\n",
              "      <th>twp</th>\n",
              "      <th>addr</th>\n",
              "      <th>e</th>\n",
              "      <th>month</th>\n",
              "      <th>day_of_month</th>\n",
              "      <th>day_of_week</th>\n",
              "      <th>day_name</th>\n",
              "      <th>reason</th>\n",
              "      <th>month_name</th>\n",
              "    </tr>\n",
              "  </thead>\n",
              "  <tbody>\n",
              "    <tr>\n",
              "      <th>9</th>\n",
              "      <td>40.102398</td>\n",
              "      <td>-75.291458</td>\n",
              "      <td>BLUEROUTE  &amp; RAMP I476 NB TO CHEMICAL RD; PLYM...</td>\n",
              "      <td>19462.0</td>\n",
              "      <td>Traffic: VEHICLE ACCIDENT -</td>\n",
              "      <td>2015-12-10 17:35:41</td>\n",
              "      <td>PLYMOUTH</td>\n",
              "      <td>BLUEROUTE  &amp; RAMP I476 NB TO CHEMICAL RD</td>\n",
              "      <td>1</td>\n",
              "      <td>12</td>\n",
              "      <td>10</td>\n",
              "      <td>3</td>\n",
              "      <td>Thursday</td>\n",
              "      <td>Traffic</td>\n",
              "      <td>Dec</td>\n",
              "    </tr>\n",
              "    <tr>\n",
              "      <th>11</th>\n",
              "      <td>40.084161</td>\n",
              "      <td>-75.308386</td>\n",
              "      <td>BROOK RD &amp; COLWELL LN; PLYMOUTH; 2015-12-10 @ ...</td>\n",
              "      <td>19428.0</td>\n",
              "      <td>Traffic: VEHICLE ACCIDENT -</td>\n",
              "      <td>2015-12-10 16:32:10</td>\n",
              "      <td>PLYMOUTH</td>\n",
              "      <td>BROOK RD &amp; COLWELL LN</td>\n",
              "      <td>1</td>\n",
              "      <td>12</td>\n",
              "      <td>10</td>\n",
              "      <td>3</td>\n",
              "      <td>Thursday</td>\n",
              "      <td>Traffic</td>\n",
              "      <td>Dec</td>\n",
              "    </tr>\n",
              "    <tr>\n",
              "      <th>12</th>\n",
              "      <td>40.174131</td>\n",
              "      <td>-75.098491</td>\n",
              "      <td>BYBERRY AVE &amp; S WARMINSTER RD; UPPER MORELAND;...</td>\n",
              "      <td>19040.0</td>\n",
              "      <td>Traffic: VEHICLE ACCIDENT -</td>\n",
              "      <td>2015-12-10 17:15:49</td>\n",
              "      <td>UPPER MORELAND</td>\n",
              "      <td>BYBERRY AVE &amp; S WARMINSTER RD</td>\n",
              "      <td>1</td>\n",
              "      <td>12</td>\n",
              "      <td>10</td>\n",
              "      <td>3</td>\n",
              "      <td>Thursday</td>\n",
              "      <td>Traffic</td>\n",
              "      <td>Dec</td>\n",
              "    </tr>\n",
              "    <tr>\n",
              "      <th>13</th>\n",
              "      <td>40.062974</td>\n",
              "      <td>-75.135914</td>\n",
              "      <td>OLD YORK RD &amp; VALLEY RD; CHELTENHAM; 2015-12-1...</td>\n",
              "      <td>19027.0</td>\n",
              "      <td>Traffic: VEHICLE ACCIDENT -</td>\n",
              "      <td>2015-12-10 17:12:47</td>\n",
              "      <td>CHELTENHAM</td>\n",
              "      <td>OLD YORK RD &amp; VALLEY RD</td>\n",
              "      <td>1</td>\n",
              "      <td>12</td>\n",
              "      <td>10</td>\n",
              "      <td>3</td>\n",
              "      <td>Thursday</td>\n",
              "      <td>Traffic</td>\n",
              "      <td>Dec</td>\n",
              "    </tr>\n",
              "    <tr>\n",
              "      <th>15</th>\n",
              "      <td>40.223778</td>\n",
              "      <td>-75.235399</td>\n",
              "      <td>STUMP RD &amp; WITCHWOOD DR; MONTGOMERY; 2015-12-1...</td>\n",
              "      <td>18936.0</td>\n",
              "      <td>Traffic: VEHICLE ACCIDENT -</td>\n",
              "      <td>2015-12-10 17:31:00</td>\n",
              "      <td>MONTGOMERY</td>\n",
              "      <td>STUMP RD &amp; WITCHWOOD DR</td>\n",
              "      <td>1</td>\n",
              "      <td>12</td>\n",
              "      <td>10</td>\n",
              "      <td>3</td>\n",
              "      <td>Thursday</td>\n",
              "      <td>Traffic</td>\n",
              "      <td>Dec</td>\n",
              "    </tr>\n",
              "  </tbody>\n",
              "</table>\n",
              "</div>"
            ],
            "text/plain": [
              "          lat        lng  ...   reason  month_name\n",
              "9   40.102398 -75.291458  ...  Traffic         Dec\n",
              "11  40.084161 -75.308386  ...  Traffic         Dec\n",
              "12  40.174131 -75.098491  ...  Traffic         Dec\n",
              "13  40.062974 -75.135914  ...  Traffic         Dec\n",
              "15  40.223778 -75.235399  ...  Traffic         Dec\n",
              "\n",
              "[5 rows x 15 columns]"
            ]
          },
          "metadata": {
            "tags": []
          },
          "execution_count": 24
        }
      ]
    },
    {
      "cell_type": "code",
      "metadata": {
        "colab": {
          "base_uri": "https://localhost:8080/"
        },
        "id": "fwSsQFR65p9x",
        "outputId": "74b45ccd-7a7e-4216-b6b4-42984d57124d"
      },
      "source": [
        "import folium as fm\n",
        "SF_COORDINATES = (40.29, -75.581)\n",
        "MAX_RECORDS=100\n",
        "map = fm.Map(location=SF_COORDINATES, zoom_start=12,tiles=\"OpenStreetMap\")\n",
        "fg = fm.FeatureGroup(name=\"Traffic Location\")\n",
        "for data in traf[0:MAX_RECORDS].iterrows():\n",
        " fg.add_child(fm.Marker(location=[data[1]['lat'], data[1]['lng'] \n",
        "],icon=fm.Icon(color=\"red\")) )\n",
        "map.add_child(fg)\n",
        "map.save(\"TrafficWebMap.html\")\n",
        "print(map)\n"
      ],
      "execution_count": 25,
      "outputs": [
        {
          "output_type": "stream",
          "text": [
            "<folium.folium.Map object at 0x7ff838b7f190>\n"
          ],
          "name": "stdout"
        }
      ]
    },
    {
      "cell_type": "code",
      "metadata": {
        "id": "TShD-RmzBS1J"
      },
      "source": [
        ""
      ],
      "execution_count": 25,
      "outputs": []
    }
  ]
}